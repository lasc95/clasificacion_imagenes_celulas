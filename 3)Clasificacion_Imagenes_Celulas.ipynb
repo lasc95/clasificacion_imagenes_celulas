{
  "nbformat": 4,
  "nbformat_minor": 0,
  "metadata": {
    "colab": {
      "name": "3)Clasificacion_Imagenes_Celulas",
      "provenance": [],
      "collapsed_sections": []
    },
    "kernelspec": {
      "name": "python3",
      "display_name": "Python 3"
    },
    "language_info": {
      "name": "python"
    }
  },
  "cells": [
    {
      "cell_type": "markdown",
      "metadata": {
        "id": "BTPPKvcVWaGK"
      },
      "source": [
        "# Proyecto redes neuronales convolucionales (CNN)\n",
        "## Clasificar imagen si una celula está infectada o no\n",
        "Este proyecto tiene como finalidad identificar mediante un modelo Deep Learning imagenes de celulas, si estas se encuentran infectadas o no."
      ]
    },
    {
      "cell_type": "code",
      "metadata": {
        "id": "cqT5FRR8VPZk"
      },
      "source": [
        "#importación de librerías\n",
        "import pandas as pd \n",
        "import numpy as np \n",
        "import matplotlib.pyplot as plt \n",
        "import seaborn as sns \n",
        "import os "
      ],
      "execution_count": 2,
      "outputs": []
    },
    {
      "cell_type": "code",
      "metadata": {
        "id": "i35Od6-4VX9U"
      },
      "source": [
        "from matplotlib.image import imread # convierte imagenes en arrays para poder visualizar"
      ],
      "execution_count": 3,
      "outputs": []
    },
    {
      "cell_type": "markdown",
      "metadata": {
        "id": "z5ltBisfXdaN"
      },
      "source": [
        "Vamos a leer los directorios donde se encuentran nuestras imagenes. En este caso, se encuentran en google drive y se dividen en imagenes de entrenamiento y testeo"
      ]
    },
    {
      "cell_type": "code",
      "metadata": {
        "colab": {
          "base_uri": "https://localhost:8080/"
        },
        "id": "TDotUqeZZdnE",
        "outputId": "0e6ba268-5e00-4067-e377-da48235ef34b"
      },
      "source": [
        "#leyendo directorios\n",
        "my_path = '/content/drive/MyDrive/curso keras_tf/REDES NEURONALES CONVOLUCIONALES (CNN)/cell_images'\n",
        "test_path = my_path + '/test'\n",
        "train_path = my_path + '/train'\n",
        "os.listdir(train_path)"
      ],
      "execution_count": 4,
      "outputs": [
        {
          "output_type": "execute_result",
          "data": {
            "text/plain": [
              "['uninfected', 'parasitized']"
            ]
          },
          "metadata": {
            "tags": []
          },
          "execution_count": 4
        }
      ]
    },
    {
      "cell_type": "markdown",
      "metadata": {
        "id": "-E-jT3HrXu_r"
      },
      "source": [
        "Tomaremos una imagen para hacer la prueba de visualizacion"
      ]
    },
    {
      "cell_type": "code",
      "metadata": {
        "colab": {
          "base_uri": "https://localhost:8080/",
          "height": 36
        },
        "id": "kzqmXzunc-G3",
        "outputId": "f8226466-3717-46d6-ce7f-329befe25395"
      },
      "source": [
        "os.listdir(train_path+'/parasitized')[10] # tomamos la primera imagen"
      ],
      "execution_count": 5,
      "outputs": [
        {
          "output_type": "execute_result",
          "data": {
            "application/vnd.google.colaboratory.intrinsic+json": {
              "type": "string"
            },
            "text/plain": [
              "'C99P60ThinF_IMG_20150918_141314_cell_145.png'"
            ]
          },
          "metadata": {
            "tags": []
          },
          "execution_count": 5
        }
      ]
    },
    {
      "cell_type": "code",
      "metadata": {
        "colab": {
          "base_uri": "https://localhost:8080/"
        },
        "id": "aFCqzHykdYPK",
        "outputId": "32eeda46-25fe-404f-e934-233afe229a5c"
      },
      "source": [
        "par_cell = train_path + '/parasitized'+'/C101P62ThinF_IMG_20150918_151006_cell_61.png'\n",
        "imread(par_cell)[:][:10] #podemos visualizar el array que nos ha generado la funcion imread de matplotlib"
      ],
      "execution_count": 6,
      "outputs": [
        {
          "output_type": "execute_result",
          "data": {
            "text/plain": [
              "array([[[0., 0., 0.],\n",
              "        [0., 0., 0.],\n",
              "        [0., 0., 0.],\n",
              "        ...,\n",
              "        [0., 0., 0.],\n",
              "        [0., 0., 0.],\n",
              "        [0., 0., 0.]],\n",
              "\n",
              "       [[0., 0., 0.],\n",
              "        [0., 0., 0.],\n",
              "        [0., 0., 0.],\n",
              "        ...,\n",
              "        [0., 0., 0.],\n",
              "        [0., 0., 0.],\n",
              "        [0., 0., 0.]],\n",
              "\n",
              "       [[0., 0., 0.],\n",
              "        [0., 0., 0.],\n",
              "        [0., 0., 0.],\n",
              "        ...,\n",
              "        [0., 0., 0.],\n",
              "        [0., 0., 0.],\n",
              "        [0., 0., 0.]],\n",
              "\n",
              "       ...,\n",
              "\n",
              "       [[0., 0., 0.],\n",
              "        [0., 0., 0.],\n",
              "        [0., 0., 0.],\n",
              "        ...,\n",
              "        [0., 0., 0.],\n",
              "        [0., 0., 0.],\n",
              "        [0., 0., 0.]],\n",
              "\n",
              "       [[0., 0., 0.],\n",
              "        [0., 0., 0.],\n",
              "        [0., 0., 0.],\n",
              "        ...,\n",
              "        [0., 0., 0.],\n",
              "        [0., 0., 0.],\n",
              "        [0., 0., 0.]],\n",
              "\n",
              "       [[0., 0., 0.],\n",
              "        [0., 0., 0.],\n",
              "        [0., 0., 0.],\n",
              "        ...,\n",
              "        [0., 0., 0.],\n",
              "        [0., 0., 0.],\n",
              "        [0., 0., 0.]]], dtype=float32)"
            ]
          },
          "metadata": {
            "tags": []
          },
          "execution_count": 6
        }
      ]
    },
    {
      "cell_type": "markdown",
      "metadata": {
        "id": "trFc0RbUYMhs"
      },
      "source": [
        "desplegamos la imagen"
      ]
    },
    {
      "cell_type": "code",
      "metadata": {
        "colab": {
          "base_uri": "https://localhost:8080/",
          "height": 286
        },
        "id": "owNFRo85eV4W",
        "outputId": "e04d35cf-1e1a-4b90-fb5e-d9c320710271"
      },
      "source": [
        "plt.imshow(imread(par_cell))"
      ],
      "execution_count": null,
      "outputs": [
        {
          "output_type": "execute_result",
          "data": {
            "text/plain": [
              "<matplotlib.image.AxesImage at 0x7fe449e229d0>"
            ]
          },
          "metadata": {
            "tags": []
          },
          "execution_count": 6
        },
        {
          "output_type": "display_data",
          "data": {
            "image/png": "[encoded data removed]",
            "text/plain": [
              "<Figure size 432x288 with 1 Axes>"
            ]
          },
          "metadata": {
            "tags": [],
            "needs_background": "light"
          }
        }
      ]
    },
    {
      "cell_type": "code",
      "metadata": {
        "colab": {
          "base_uri": "https://localhost:8080/",
          "height": 36
        },
        "id": "5SfXP6jVevKs",
        "outputId": "69a134cc-3bb3-4f39-c6c6-a1398e77c36a"
      },
      "source": [
        "os.listdir(train_path+'/uninfected')[10]"
      ],
      "execution_count": null,
      "outputs": [
        {
          "output_type": "execute_result",
          "data": {
            "application/vnd.google.colaboratory.intrinsic+json": {
              "type": "string"
            },
            "text/plain": [
              "'C93P54ThinF_IMG_20150821_162901_cell_147.png'"
            ]
          },
          "metadata": {
            "tags": []
          },
          "execution_count": 7
        }
      ]
    },
    {
      "cell_type": "code",
      "metadata": {
        "id": "GEu7knQrelk8"
      },
      "source": [
        "unin = train_path + '/uninfected/' + 'C100P61ThinF_IMG_20150918_144348_cell_2.png'"
      ],
      "execution_count": null,
      "outputs": []
    },
    {
      "cell_type": "code",
      "metadata": {
        "colab": {
          "base_uri": "https://localhost:8080/",
          "height": 285
        },
        "id": "xC-q_FSNe3lQ",
        "outputId": "20f0123a-bf15-420f-844f-fd45a6039b2f"
      },
      "source": [
        "plt.imshow(imread(unin))"
      ],
      "execution_count": null,
      "outputs": [
        {
          "output_type": "execute_result",
          "data": {
            "text/plain": [
              "<matplotlib.image.AxesImage at 0x7fe449d53c90>"
            ]
          },
          "metadata": {
            "tags": []
          },
          "execution_count": 9
        },
        {
          "output_type": "display_data",
          "data": {
            "image/png": "[encoded data removed]",
            "text/plain": [
              "<Figure size 432x288 with 1 Axes>"
            ]
          },
          "metadata": {
            "tags": [],
            "needs_background": "light"
          }
        }
      ]
    },
    {
      "cell_type": "code",
      "metadata": {
        "colab": {
          "base_uri": "https://localhost:8080/"
        },
        "id": "bMcRBoK4faKb",
        "outputId": "70447a09-fc82-4a30-aab2-90c2931420f1"
      },
      "source": [
        "# veremos cuantos hay  \n",
        "len(os.listdir(train_path +'/uninfected')), len(os.listdir(train_path + '/parasitized'))"
      ],
      "execution_count": null,
      "outputs": [
        {
          "output_type": "execute_result",
          "data": {
            "text/plain": [
              "(12480, 12480)"
            ]
          },
          "metadata": {
            "tags": []
          },
          "execution_count": 10
        }
      ]
    },
    {
      "cell_type": "markdown",
      "metadata": {
        "id": "VNlepyrogBiT"
      },
      "source": [
        "# no todos tienen la misma dimension.\n",
        "vamos a verificar si las imagenes poseen las mismas dimensiones o no."
      ]
    },
    {
      "cell_type": "code",
      "metadata": {
        "id": "PwXWOXbmgFVK"
      },
      "source": [
        "dim1 = []\n",
        "dim2 = []\n",
        "\n",
        "for image_filename in os.listdir(test_path+'/uninfected'):\n",
        "  img = imread(test_path+'/uninfected/'+image_filename)\n",
        "  d1,d2,colors = img.shape\n",
        "  dim1.append(d1)\n",
        "  dim2.append(d2)"
      ],
      "execution_count": null,
      "outputs": []
    },
    {
      "cell_type": "markdown",
      "metadata": {
        "id": "YWlgD-zXYcDm"
      },
      "source": [
        "Vamos a consultar y podemos observar que no poseen las mismas dimensiones"
      ]
    },
    {
      "cell_type": "code",
      "metadata": {
        "colab": {
          "base_uri": "https://localhost:8080/"
        },
        "id": "DJOAV8T6gbEh",
        "outputId": "d0e5d1ba-0c0f-4fc1-ad09-571a96588032"
      },
      "source": [
        "dim1[:30]"
      ],
      "execution_count": null,
      "outputs": [
        {
          "output_type": "execute_result",
          "data": {
            "text/plain": [
              "[154,\n",
              " 151,\n",
              " 121,\n",
              " 115,\n",
              " 127,\n",
              " 157,\n",
              " 130,\n",
              " 112,\n",
              " 151,\n",
              " 181,\n",
              " 124,\n",
              " 109,\n",
              " 136,\n",
              " 106,\n",
              " 130,\n",
              " 124,\n",
              " 136,\n",
              " 148,\n",
              " 127,\n",
              " 115,\n",
              " 106,\n",
              " 115,\n",
              " 142,\n",
              " 115,\n",
              " 136,\n",
              " 145,\n",
              " 109,\n",
              " 124,\n",
              " 115,\n",
              " 127]"
            ]
          },
          "metadata": {
            "tags": []
          },
          "execution_count": 12
        }
      ]
    },
    {
      "cell_type": "markdown",
      "metadata": {
        "id": "TuEGYvEqgrAf"
      },
      "source": [
        "Crearemos un grafico de dispersion para visualizar como estan dispersas las dimensiones y luego sacaremos el promedio de las mismas para determinar cual sera la dimension que utilizaremos"
      ]
    },
    {
      "cell_type": "code",
      "metadata": {
        "colab": {
          "base_uri": "https://localhost:8080/",
          "height": 513
        },
        "id": "nOofiCUigpiX",
        "outputId": "a3de4521-2771-4a26-92dc-7f988df4f15c"
      },
      "source": [
        "sns.jointplot(dim1, dim2)"
      ],
      "execution_count": null,
      "outputs": [
        {
          "output_type": "stream",
          "text": [
            "/usr/local/lib/python3.7/dist-packages/seaborn/_decorators.py:43: FutureWarning: Pass the following variables as keyword args: x, y. From version 0.12, the only valid positional argument will be `data`, and passing other arguments without an explicit keyword will result in an error or misinterpretation.\n",
            "  FutureWarning\n"
          ],
          "name": "stderr"
        },
        {
          "output_type": "execute_result",
          "data": {
            "text/plain": [
              "<seaborn.axisgrid.JointGrid at 0x7fe449d207d0>"
            ]
          },
          "metadata": {
            "tags": []
          },
          "execution_count": 13
        },
        {
          "output_type": "display_data",
          "data": {
            "image/png": "[encoded data removed]",
            "text/plain": [
              "<Figure size 432x432 with 3 Axes>"
            ]
          },
          "metadata": {
            "tags": [],
            "needs_background": "light"
          }
        }
      ]
    },
    {
      "cell_type": "code",
      "metadata": {
        "colab": {
          "base_uri": "https://localhost:8080/"
        },
        "id": "UN0fZ_FThCkS",
        "outputId": "d2fe33ca-6bf9-45e0-a83d-d1d838dab567"
      },
      "source": [
        "# sacamos el promedio de las dos \n",
        "np.mean(dim1)"
      ],
      "execution_count": null,
      "outputs": [
        {
          "output_type": "execute_result",
          "data": {
            "text/plain": [
              "130.92538461538462"
            ]
          },
          "metadata": {
            "tags": []
          },
          "execution_count": 14
        }
      ]
    },
    {
      "cell_type": "code",
      "metadata": {
        "colab": {
          "base_uri": "https://localhost:8080/"
        },
        "id": "OuK0flLOhFLn",
        "outputId": "58786514-9cfc-4bff-cd64-a1a89a6d54c4"
      },
      "source": [
        "np.mean(dim2)"
      ],
      "execution_count": null,
      "outputs": [
        {
          "output_type": "execute_result",
          "data": {
            "text/plain": [
              "130.75"
            ]
          },
          "metadata": {
            "tags": []
          },
          "execution_count": 15
        }
      ]
    },
    {
      "cell_type": "markdown",
      "metadata": {
        "id": "fbZzRMrGhL-M"
      },
      "source": [
        "Definiremos las dimensiones de la imagen como (130, 130, 3) 130 x 130 pixeles y 3 sera el canal de colores (rgb)"
      ]
    },
    {
      "cell_type": "code",
      "metadata": {
        "id": "Z-49cXLhhHRa"
      },
      "source": [
        "img_shape = (130, 130, 3) # 130 x 130 - 3 color channels"
      ],
      "execution_count": null,
      "outputs": []
    },
    {
      "cell_type": "markdown",
      "metadata": {
        "id": "XP8b6kYFT3Is"
      },
      "source": [
        "## Procesamiento de imagenes con ImageDataGenerator\n",
        "Ya sabemos cuales son las dimensiones que utilizaremos para nuestras imagenes, es hora de poder dar variedad a nuestras dimensiones o al tratamiento de las mismas al momento de realizar el entrenamiento. En este caso, esta libreria de keras nos brinda la posibilidad de modificar parametros a nuestra imagen (zoom, recortes, rotaciones) para, dicho anteriormente, brindar variedad al modelo y que no siempre sean imagenes verticales o siempre en una misma posicion"
      ]
    },
    {
      "cell_type": "code",
      "metadata": {
        "id": "PgV7bGhohbfo"
      },
      "source": [
        "from tensorflow.keras.preprocessing.image import ImageDataGenerator"
      ],
      "execution_count": null,
      "outputs": []
    },
    {
      "cell_type": "markdown",
      "metadata": {
        "id": "HtVDPeeLVvxo"
      },
      "source": [
        " estos paráámetros dependeran, en este caso estamos tratando con celulas, \n",
        "las celulas pueden estar dadas vueltas, pero en caso de reconocimiento facial, \n",
        "se aconseja no utilizar mucha rotación por el hecho de que no seria muy realista"
      ]
    },
    {
      "cell_type": "code",
      "metadata": {
        "id": "WUkgIB2vUsMh"
      },
      "source": [
        "image_gen = ImageDataGenerator(rotation_range=20,#si rotamos la imagen en grados. no muy conveniente para caras\n",
        "                           width_shift_range=0.1,# cambia el width en un 10%\n",
        "                           height_shift_range=0.1,# cambia el height en un 10%\n",
        "                           shear_range=0.1,#corta la imagen en un 10%\n",
        "                           zoom_range=0.1, #hacemos zoom en un rango de 10%\n",
        "                           horizontal_flip=True,#hacemos una rotacion horizontal \n",
        "                           fill_mode='nearest')#en caso de que se acorte, rellenar con pixeles que estáán al rededor\n"
      ],
      "execution_count": null,
      "outputs": []
    },
    {
      "cell_type": "markdown",
      "metadata": {
        "id": "1WLhypJAaToi"
      },
      "source": [
        "Hacemos prueba con imagen real"
      ]
    },
    {
      "cell_type": "code",
      "metadata": {
        "colab": {
          "base_uri": "https://localhost:8080/",
          "height": 286
        },
        "id": "IkfBaZ4qWHzD",
        "outputId": "cfc37366-174c-4d93-b6fe-5ee4b83b5cf9"
      },
      "source": [
        "par_cell_ar = imread(par_cell)\n",
        "plt.imshow(par_cell_ar)"
      ],
      "execution_count": null,
      "outputs": [
        {
          "output_type": "execute_result",
          "data": {
            "text/plain": [
              "<matplotlib.image.AxesImage at 0x7fe404a8c310>"
            ]
          },
          "metadata": {
            "tags": []
          },
          "execution_count": 19
        },
        {
          "output_type": "display_data",
          "data": {
            "image/png": "[encoded data removed]",
            "text/plain": [
              "<Figure size 432x288 with 1 Axes>"
            ]
          },
          "metadata": {
            "tags": [],
            "needs_background": "light"
          }
        }
      ]
    },
    {
      "cell_type": "markdown",
      "metadata": {
        "id": "NQMVorxZaVb3"
      },
      "source": [
        "hacemos la misma prueba con imagen levemente modificada por nuestra libreria"
      ]
    },
    {
      "cell_type": "code",
      "metadata": {
        "colab": {
          "base_uri": "https://localhost:8080/",
          "height": 286
        },
        "id": "_De2GsVYXOyl",
        "outputId": "83d0dd3b-576c-45b8-ab23-e7c6658b0cff"
      },
      "source": [
        "plt.imshow(image_gen.random_transform(par_cell_ar))"
      ],
      "execution_count": null,
      "outputs": [
        {
          "output_type": "execute_result",
          "data": {
            "text/plain": [
              "<matplotlib.image.AxesImage at 0x7fe4049fbc90>"
            ]
          },
          "metadata": {
            "tags": []
          },
          "execution_count": 20
        },
        {
          "output_type": "display_data",
          "data": {
            "image/png": "[encoded data removed]",
            "text/plain": [
              "<Figure size 432x288 with 1 Axes>"
            ]
          },
          "metadata": {
            "tags": [],
            "needs_background": "light"
          }
        }
      ]
    },
    {
      "cell_type": "markdown",
      "metadata": {
        "id": "SgX6o9FKYU6l"
      },
      "source": [
        "funciona muy bien si tenemos pocos set de imagenes a evaluar, podemos transformarlas. Ahora vamos a modificar desde el directorio"
      ]
    },
    {
      "cell_type": "markdown",
      "metadata": {
        "id": "0SVKFKCYY6wJ"
      },
      "source": [
        "## image_gen flow_from_directory: <strong> es necesario tener la carpeta dividida en subdirectorios</strong> <br> ejemplo: \n",
        "directorio madre: \"celulas_train\" <br> \n",
        "directorios hijos: \"infectadas\" / \"no infectadas\" y cada una tiene sus imagenes"
      ]
    },
    {
      "cell_type": "code",
      "metadata": {
        "colab": {
          "base_uri": "https://localhost:8080/"
        },
        "id": "M_oh7tIaZcDz",
        "outputId": "54854bdd-39d7-428c-9bf5-fe8f1a295c38"
      },
      "source": [
        "os.listdir(train_path)# vemos que tenemos dos carpetas, las cuales significa clases"
      ],
      "execution_count": null,
      "outputs": [
        {
          "output_type": "execute_result",
          "data": {
            "text/plain": [
              "['uninfected', 'parasitized']"
            ]
          },
          "metadata": {
            "tags": []
          },
          "execution_count": 22
        }
      ]
    },
    {
      "cell_type": "code",
      "metadata": {
        "colab": {
          "base_uri": "https://localhost:8080/"
        },
        "id": "wa56Hy8jYejF",
        "outputId": "2f1d725b-c518-406e-c992-d0d35a4e7513"
      },
      "source": [
        "print(train_path)\n",
        "image_gen.flow_from_directory(train_path)"
      ],
      "execution_count": null,
      "outputs": [
        {
          "output_type": "stream",
          "text": [
            "/content/drive/MyDrive/curso keras_tf/REDES NEURONALES CONVOLUCIONALES (CNN)/cell_images/train\n",
            "Found 24958 images belonging to 2 classes.\n"
          ],
          "name": "stdout"
        },
        {
          "output_type": "execute_result",
          "data": {
            "text/plain": [
              "<tensorflow.python.keras.preprocessing.image.DirectoryIterator at 0x7fe4049c6e90>"
            ]
          },
          "metadata": {
            "tags": []
          },
          "execution_count": 23
        }
      ]
    },
    {
      "cell_type": "code",
      "metadata": {
        "colab": {
          "base_uri": "https://localhost:8080/"
        },
        "id": "ivKTR12cbVA9",
        "outputId": "31bb1e26-e27f-469b-ba82-9540abd7b2e8"
      },
      "source": [
        "os.listdir(test_path)"
      ],
      "execution_count": null,
      "outputs": [
        {
          "output_type": "execute_result",
          "data": {
            "text/plain": [
              "['parasitized', 'uninfected']"
            ]
          },
          "metadata": {
            "tags": []
          },
          "execution_count": 24
        }
      ]
    },
    {
      "cell_type": "code",
      "metadata": {
        "colab": {
          "base_uri": "https://localhost:8080/"
        },
        "id": "KJCJ1isNZuA2",
        "outputId": "eee69f9e-7707-4421-9a9e-5584f70e9919"
      },
      "source": [
        "print(test_path)\n",
        "image_gen.flow_from_directory(test_path)"
      ],
      "execution_count": null,
      "outputs": [
        {
          "output_type": "stream",
          "text": [
            "/content/drive/MyDrive/curso keras_tf/REDES NEURONALES CONVOLUCIONALES (CNN)/cell_images/test\n",
            "Found 2600 images belonging to 2 classes.\n"
          ],
          "name": "stdout"
        },
        {
          "output_type": "execute_result",
          "data": {
            "text/plain": [
              "<tensorflow.python.keras.preprocessing.image.DirectoryIterator at 0x7fe4049cc090>"
            ]
          },
          "metadata": {
            "tags": []
          },
          "execution_count": 25
        }
      ]
    },
    {
      "cell_type": "markdown",
      "metadata": {
        "id": "ZwgIk397bvob"
      },
      "source": [
        "# Creacion del modelo.\n",
        "En este caso, como estamos tratando con procesamiento de imagenes, vamos a crear un modelo secuencial y con capas convolucionales y de pooling para alivianar los parametros que pasan de una capa a otra (debido a la cantidad de pixeles que debe procesar)"
      ]
    },
    {
      "cell_type": "code",
      "metadata": {
        "id": "4V4ogvkRbxfL"
      },
      "source": [
        "from tensorflow.keras.models import Sequential \n",
        "from tensorflow.keras.layers import Dense, Conv2D, MaxPool2D, Dropout, Flatten"
      ],
      "execution_count": null,
      "outputs": []
    },
    {
      "cell_type": "code",
      "metadata": {
        "id": "klfctX6VcHYx"
      },
      "source": [
        "model = Sequential()\n",
        "img_shape = (130, 130, 3) # 130 x 130 - 3 color channels\n",
        "#conv layer\n",
        "model.add(Conv2D(32, kernel_size=(3,3),input_shape=(img_shape),\n",
        "                 activation='relu'))\n",
        "#pool layer\n",
        "model.add(MaxPool2D(pool_size=(2,2)))\n",
        "\n",
        "#conv layer\n",
        "model.add(Conv2D(64, kernel_size=(3,3),input_shape=(img_shape),\n",
        "                 activation='relu'))\n",
        "#pool layer\n",
        "model.add(MaxPool2D(pool_size=(2,2)))\n",
        "\n",
        "#conv layer\n",
        "model.add(Conv2D(64, kernel_size=(3,3),input_shape=(img_shape),\n",
        "                 activation='relu'))\n",
        "#pool layer\n",
        "model.add(MaxPool2D(pool_size=(2,2)))\n",
        "\n",
        "#flatten \n",
        "model.add(Flatten())\n",
        "\n",
        "#dense\n",
        "model.add(Dense(128, activation='relu'))\n",
        "\n",
        "#dropout\n",
        "model.add(Dropout(0.5))\n",
        "\n",
        "##OUTPUT\n",
        "model.add(Dense(1, activation='sigmoid'))\n",
        "\n",
        "#compilar \n",
        "model.compile(loss='binary_crossentropy', optimizer='adam', metrics=['accuracy'])"
      ],
      "execution_count": null,
      "outputs": []
    },
    {
      "cell_type": "code",
      "metadata": {
        "colab": {
          "base_uri": "https://localhost:8080/"
        },
        "id": "vySOc6Cxdp0X",
        "outputId": "a2680e89-9084-445a-cea4-ad62e82812f5"
      },
      "source": [
        "model.summary()"
      ],
      "execution_count": null,
      "outputs": [
        {
          "output_type": "stream",
          "text": [
            "Model: \"sequential\"\n",
            "_________________________________________________________________\n",
            "Layer (type)                 Output Shape              Param #   \n",
            "=================================================================\n",
            "conv2d (Conv2D)              (None, 128, 128, 32)      896       \n",
            "_________________________________________________________________\n",
            "max_pooling2d (MaxPooling2D) (None, 64, 64, 32)        0         \n",
            "_________________________________________________________________\n",
            "conv2d_1 (Conv2D)            (None, 62, 62, 64)        18496     \n",
            "_________________________________________________________________\n",
            "max_pooling2d_1 (MaxPooling2 (None, 31, 31, 64)        0         \n",
            "_________________________________________________________________\n",
            "conv2d_2 (Conv2D)            (None, 29, 29, 64)        36928     \n",
            "_________________________________________________________________\n",
            "max_pooling2d_2 (MaxPooling2 (None, 14, 14, 64)        0         \n",
            "_________________________________________________________________\n",
            "flatten (Flatten)            (None, 12544)             0         \n",
            "_________________________________________________________________\n",
            "dense (Dense)                (None, 128)               1605760   \n",
            "_________________________________________________________________\n",
            "dropout (Dropout)            (None, 128)               0         \n",
            "_________________________________________________________________\n",
            "dense_1 (Dense)              (None, 1)                 129       \n",
            "=================================================================\n",
            "Total params: 1,662,209\n",
            "Trainable params: 1,662,209\n",
            "Non-trainable params: 0\n",
            "_________________________________________________________________\n"
          ],
          "name": "stdout"
        }
      ]
    },
    {
      "cell_type": "markdown",
      "metadata": {
        "id": "Dc6wo_yva1Ih"
      },
      "source": [
        "## Creacion de callback \n",
        "Es necesario utilizar un callback (en este caso EarlyStopping) para evitar que nuestro valor de loss aumente despues de 2 epochs (periodos de entrenamiento) o bien, se produzca un sobreajuste, lo cual no seria bueno para nuestro modelo"
      ]
    },
    {
      "cell_type": "code",
      "metadata": {
        "id": "X8ocbibXdtPD"
      },
      "source": [
        "from tensorflow.keras.callbacks import EarlyStopping"
      ],
      "execution_count": null,
      "outputs": []
    },
    {
      "cell_type": "code",
      "metadata": {
        "id": "i2yMMxsod005"
      },
      "source": [
        "early = EarlyStopping(monitor='val_loss', patience=2)"
      ],
      "execution_count": null,
      "outputs": []
    },
    {
      "cell_type": "markdown",
      "metadata": {
        "id": "eY9XN5Z6d9nD"
      },
      "source": [
        "batch_size para que el modelo no se sobrecargue con tanta imagen, vamos pasando de a n cantidades de imagenes "
      ]
    },
    {
      "cell_type": "code",
      "metadata": {
        "id": "wLfx9gkod8Em"
      },
      "source": [
        "batch_size = 16"
      ],
      "execution_count": null,
      "outputs": []
    },
    {
      "cell_type": "markdown",
      "metadata": {
        "id": "xPhBYZUdfdWl"
      },
      "source": [
        "# Vamos a tomar las imagenes con image_gen y modificamos los parametros"
      ]
    },
    {
      "cell_type": "code",
      "metadata": {
        "colab": {
          "base_uri": "https://localhost:8080/"
        },
        "id": "qhFbfHbmf2Ia",
        "outputId": "8bd1c569-aa41-445c-c340-1ac7b9a403f6"
      },
      "source": [
        "img_shape, img_shape[:2]"
      ],
      "execution_count": null,
      "outputs": [
        {
          "output_type": "execute_result",
          "data": {
            "text/plain": [
              "((130, 130, 3), (130, 130))"
            ]
          },
          "metadata": {
            "tags": []
          },
          "execution_count": 32
        }
      ]
    },
    {
      "cell_type": "code",
      "metadata": {
        "id": "0p-2tZSAeLTJ",
        "colab": {
          "base_uri": "https://localhost:8080/"
        },
        "outputId": "49f63795-e033-46f4-b0d1-2a50722e9517"
      },
      "source": [
        "train_image_gen = image_gen.flow_from_directory(train_path, # direccion del path (recordar que deben estar con subdirectorios)\n",
        "                                                target_size=img_shape[:2],# nuestro target_size, redimensionamiento de la imagen(32,32)\n",
        "                                                color_mode='rgb', # es a color, por lo que son los 3 canales rgb\n",
        "                                                batch_size=batch_size, # la cantidad de imagenes que pasaremos\n",
        "                                                class_mode='binary') # tipo de clasificacion"
      ],
      "execution_count": null,
      "outputs": [
        {
          "output_type": "stream",
          "text": [
            "Found 24958 images belonging to 2 classes.\n"
          ],
          "name": "stdout"
        }
      ]
    },
    {
      "cell_type": "code",
      "metadata": {
        "colab": {
          "base_uri": "https://localhost:8080/"
        },
        "id": "h4lOOsFzfbco",
        "outputId": "6cf422f9-1ed8-4620-c1ef-296b2394b11d"
      },
      "source": [
        "test_image_gen = image_gen.flow_from_directory(test_path, \n",
        "                                                target_size=img_shape[:2],\n",
        "                                                color_mode='rgb',\n",
        "                                                batch_size=batch_size,\n",
        "                                                class_mode='binary',\n",
        "                                                shuffle=False)"
      ],
      "execution_count": null,
      "outputs": [
        {
          "output_type": "stream",
          "text": [
            "Found 2600 images belonging to 2 classes.\n"
          ],
          "name": "stdout"
        }
      ]
    },
    {
      "cell_type": "markdown",
      "metadata": {
        "id": "r-NgoGIqgP-S"
      },
      "source": [
        "flow generator divide las clases automaticamente.\n",
        "revisamos y nuestro imageGenerator identifica automatica el nombre de la carpeta que estamos trabajando y toma ese nombre y lo identifica como \"clase\" (etiqueta, label)"
      ]
    },
    {
      "cell_type": "code",
      "metadata": {
        "colab": {
          "base_uri": "https://localhost:8080/"
        },
        "id": "APCE9SNngL39",
        "outputId": "1d12e3f4-70e5-405d-878a-0277b4101dab"
      },
      "source": [
        "train_image_gen.class_indices"
      ],
      "execution_count": null,
      "outputs": [
        {
          "output_type": "execute_result",
          "data": {
            "text/plain": [
              "{'parasitized': 0, 'uninfected': 1}"
            ]
          },
          "metadata": {
            "tags": []
          },
          "execution_count": 35
        }
      ]
    },
    {
      "cell_type": "markdown",
      "metadata": {
        "id": "BQy18_ztgcgS"
      },
      "source": [
        "Entrenamos. <br> \n",
        "model.fit_generator(a partir del flow_directory)"
      ]
    },
    {
      "cell_type": "code",
      "metadata": {
        "id": "34zk-Lksgb4y"
      },
      "source": [
        "results = model.fit_generator(train_image_gen, epochs=20,\n",
        "                              validation_data=test_image_gen,\n",
        "                              callbacks=[early])"
      ],
      "execution_count": null,
      "outputs": []
    },
    {
      "cell_type": "markdown",
      "metadata": {
        "id": "mn0CipEyJtD_"
      },
      "source": [
        "# CARGANDO MODELO Y EVALUANDO"
      ]
    },
    {
      "cell_type": "code",
      "metadata": {
        "id": "8aeWSEKCJIBH"
      },
      "source": [
        "from tensorflow.keras.models import load_model"
      ],
      "execution_count": null,
      "outputs": []
    },
    {
      "cell_type": "code",
      "metadata": {
        "id": "eu-SuD5jJct4"
      },
      "source": [
        "model = load_model('/content/drive/MyDrive/curso keras_tf/REDES NEURONALES CONVOLUCIONALES (CNN)/malaria_detector.h5')"
      ],
      "execution_count": null,
      "outputs": []
    },
    {
      "cell_type": "code",
      "metadata": {
        "colab": {
          "base_uri": "https://localhost:8080/"
        },
        "id": "Cy33_bofJl22",
        "outputId": "04d7e8fc-d2ff-412c-c231-caf295a0986c"
      },
      "source": [
        "model"
      ],
      "execution_count": null,
      "outputs": [
        {
          "output_type": "execute_result",
          "data": {
            "text/plain": [
              "<tensorflow.python.keras.engine.sequential.Sequential at 0x7fe3fe97db50>"
            ]
          },
          "metadata": {
            "tags": []
          },
          "execution_count": 39
        }
      ]
    },
    {
      "cell_type": "code",
      "metadata": {
        "colab": {
          "base_uri": "https://localhost:8080/"
        },
        "id": "OFSZnoDsJoQo",
        "outputId": "abb7788f-b219-4228-94eb-a212d803c210"
      },
      "source": [
        "model.metrics_names"
      ],
      "execution_count": null,
      "outputs": [
        {
          "output_type": "execute_result",
          "data": {
            "text/plain": [
              "['loss', 'accuracy']"
            ]
          },
          "metadata": {
            "tags": []
          },
          "execution_count": 41
        }
      ]
    },
    {
      "cell_type": "code",
      "metadata": {
        "colab": {
          "base_uri": "https://localhost:8080/"
        },
        "id": "E8rgDQZ-Jx7x",
        "outputId": "0cfa6004-daf5-4f3a-bc40-0d2cc0ab7b1c"
      },
      "source": [
        "#tomamos las predicciones\n",
        "pred = model.predict_generator(test_image_gen)"
      ],
      "execution_count": null,
      "outputs": [
        {
          "output_type": "stream",
          "text": [
            "/usr/local/lib/python3.7/dist-packages/tensorflow/python/keras/engine/training.py:2001: UserWarning: `Model.predict_generator` is deprecated and will be removed in a future version. Please use `Model.predict`, which supports generators.\n",
            "  warnings.warn('`Model.predict_generator` is deprecated and '\n"
          ],
          "name": "stderr"
        }
      ]
    },
    {
      "cell_type": "markdown",
      "metadata": {
        "id": "43LRLsgvM5MJ"
      },
      "source": [
        "Entrega las probabilidades de una clase u otra"
      ]
    },
    {
      "cell_type": "code",
      "metadata": {
        "colab": {
          "base_uri": "https://localhost:8080/"
        },
        "id": "RNhnL6PhJ9yi",
        "outputId": "5faed1f4-b86a-463e-81e3-dd8eb20ec3e1"
      },
      "source": [
        "# devuelve las probabilidades de que sea de una clase o de otra\n",
        "pred[:]"
      ],
      "execution_count": null,
      "outputs": [
        {
          "output_type": "execute_result",
          "data": {
            "text/plain": [
              "array([[0.      ],\n",
              "       [0.      ],\n",
              "       [0.      ],\n",
              "       ...,\n",
              "       [1.      ],\n",
              "       [1.      ],\n",
              "       [0.999748]], dtype=float32)"
            ]
          },
          "metadata": {
            "tags": []
          },
          "execution_count": 54
        }
      ]
    },
    {
      "cell_type": "markdown",
      "metadata": {
        "id": "UmzVzHyQL1uC"
      },
      "source": [
        "convertiremos nuestras predicciones en una tabla booleana.\n",
        "<br> si es mayor a 0.5, entonces esta infectado (recordar que es clasificacion binaria)"
      ]
    },
    {
      "cell_type": "code",
      "metadata": {
        "colab": {
          "base_uri": "https://localhost:8080/"
        },
        "id": "FuRxXwBbL6B6",
        "outputId": "d18b381a-4c9f-41ed-d4c3-5dce69bf5ac0"
      },
      "source": [
        "predictions = pred > 0.5\n",
        "predictions"
      ],
      "execution_count": null,
      "outputs": [
        {
          "output_type": "execute_result",
          "data": {
            "text/plain": [
              "array([[False],\n",
              "       [False],\n",
              "       [False],\n",
              "       ...,\n",
              "       [ True],\n",
              "       [ True],\n",
              "       [ True]])"
            ]
          },
          "metadata": {
            "tags": []
          },
          "execution_count": 55
        }
      ]
    },
    {
      "cell_type": "code",
      "metadata": {
        "colab": {
          "base_uri": "https://localhost:8080/"
        },
        "id": "ZCj05g2ZMAOm",
        "outputId": "67e33cd0-f7ea-4dc1-bf96-3fc2512bd1d9"
      },
      "source": [
        "len(predictions)"
      ],
      "execution_count": null,
      "outputs": [
        {
          "output_type": "execute_result",
          "data": {
            "text/plain": [
              "2600"
            ]
          },
          "metadata": {
            "tags": []
          },
          "execution_count": 56
        }
      ]
    },
    {
      "cell_type": "code",
      "metadata": {
        "id": "TKTUv4nCMBuC"
      },
      "source": [
        "from sklearn.metrics import classification_report, confusion_matrix"
      ],
      "execution_count": null,
      "outputs": []
    },
    {
      "cell_type": "code",
      "metadata": {
        "colab": {
          "base_uri": "https://localhost:8080/"
        },
        "id": "BD3lw0kRMJb2",
        "outputId": "405b420d-62e9-495a-b5d6-b2d423542266"
      },
      "source": [
        "# las reales, las separo el image processing\n",
        "test_image_gen.classes "
      ],
      "execution_count": null,
      "outputs": [
        {
          "output_type": "execute_result",
          "data": {
            "text/plain": [
              "array([0, 0, 0, ..., 1, 1, 1], dtype=int32)"
            ]
          },
          "metadata": {
            "tags": []
          },
          "execution_count": 58
        }
      ]
    },
    {
      "cell_type": "code",
      "metadata": {
        "colab": {
          "base_uri": "https://localhost:8080/"
        },
        "id": "1PaBeDoRMFpL",
        "outputId": "ce997985-b5ed-46eb-845b-28da81b47e9a"
      },
      "source": [
        "print(classification_report(test_image_gen.classes, predictions))"
      ],
      "execution_count": null,
      "outputs": [
        {
          "output_type": "stream",
          "text": [
            "              precision    recall  f1-score   support\n",
            "\n",
            "           0       0.81      0.98      0.89      1300\n",
            "           1       0.97      0.77      0.86      1300\n",
            "\n",
            "    accuracy                           0.87      2600\n",
            "   macro avg       0.89      0.87      0.87      2600\n",
            "weighted avg       0.89      0.87      0.87      2600\n",
            "\n"
          ],
          "name": "stdout"
        }
      ]
    },
    {
      "cell_type": "code",
      "metadata": {
        "colab": {
          "base_uri": "https://localhost:8080/"
        },
        "id": "_Fwb_N9PNWZ5",
        "outputId": "bf1fe278-51ca-4373-db66-c975871b96fd"
      },
      "source": [
        "print(confusion_matrix(test_image_gen.classes, predictions))"
      ],
      "execution_count": null,
      "outputs": [
        {
          "output_type": "stream",
          "text": [
            "[[1272   28]\n",
            " [ 302  998]]\n"
          ],
          "name": "stdout"
        }
      ]
    },
    {
      "cell_type": "markdown",
      "metadata": {
        "id": "t6TnQgwKNlCH"
      },
      "source": [
        "## Predecir una imagen"
      ]
    },
    {
      "cell_type": "code",
      "metadata": {
        "colab": {
          "base_uri": "https://localhost:8080/",
          "height": 54
        },
        "id": "YbhjN_buNavX",
        "outputId": "c59f9d2d-fb6d-4105-ce16-53780030255e"
      },
      "source": [
        "par_cell"
      ],
      "execution_count": null,
      "outputs": [
        {
          "output_type": "execute_result",
          "data": {
            "application/vnd.google.colaboratory.intrinsic+json": {
              "type": "string"
            },
            "text/plain": [
              "'/content/drive/MyDrive/curso keras_tf/REDES NEURONALES CONVOLUCIONALES (CNN)/cell_images/train/parasitized/C101P62ThinF_IMG_20150918_151006_cell_61.png'"
            ]
          },
          "metadata": {
            "tags": []
          },
          "execution_count": 62
        }
      ]
    },
    {
      "cell_type": "markdown",
      "metadata": {
        "id": "ymF-mPReNv_0"
      },
      "source": [
        "podemos desplegar una imagen con la libreria incluida en TF"
      ]
    },
    {
      "cell_type": "code",
      "metadata": {
        "id": "Az1MxFMhNm2S"
      },
      "source": [
        "from tensorflow.keras.preprocessing import image"
      ],
      "execution_count": null,
      "outputs": []
    },
    {
      "cell_type": "code",
      "metadata": {
        "id": "aG-LKOi2Nye6"
      },
      "source": [
        "mi_imagen = image.load_img(par_cell, target_size=img_shape)"
      ],
      "execution_count": null,
      "outputs": []
    },
    {
      "cell_type": "code",
      "metadata": {
        "colab": {
          "base_uri": "https://localhost:8080/",
          "height": 147
        },
        "id": "Gmx0mKSSOqAT",
        "outputId": "37207dae-afc9-4586-a4e5-91c6db48a910"
      },
      "source": [
        "mi_imagen"
      ],
      "execution_count": null,
      "outputs": [
        {
          "output_type": "execute_result",
          "data": {
            "image/png": "[encoded data removed]",
            "text/plain": [
              "<PIL.Image.Image image mode=RGB size=130x130 at 0x7FE3F81C8790>"
            ]
          },
          "metadata": {
            "tags": []
          },
          "execution_count": 68
        }
      ]
    },
    {
      "cell_type": "markdown",
      "metadata": {
        "id": "wmyvWQMoOVjf"
      },
      "source": [
        "Vamos a dar formato a la imagen para que podamos predecirla"
      ]
    },
    {
      "cell_type": "code",
      "metadata": {
        "id": "GqtpMSkFOZAY"
      },
      "source": [
        "my_img_arr = image.img_to_array(mi_imagen)"
      ],
      "execution_count": null,
      "outputs": []
    },
    {
      "cell_type": "code",
      "metadata": {
        "colab": {
          "base_uri": "https://localhost:8080/"
        },
        "id": "LLHwHWBGOsZW",
        "outputId": "d856ec54-5a38-4e55-c0f7-4930eb413bb4"
      },
      "source": [
        "my_img_arr"
      ],
      "execution_count": null,
      "outputs": [
        {
          "output_type": "execute_result",
          "data": {
            "text/plain": [
              "array([[[0., 0., 0.],\n",
              "        [0., 0., 0.],\n",
              "        [0., 0., 0.],\n",
              "        ...,\n",
              "        [0., 0., 0.],\n",
              "        [0., 0., 0.],\n",
              "        [0., 0., 0.]],\n",
              "\n",
              "       [[0., 0., 0.],\n",
              "        [0., 0., 0.],\n",
              "        [0., 0., 0.],\n",
              "        ...,\n",
              "        [0., 0., 0.],\n",
              "        [0., 0., 0.],\n",
              "        [0., 0., 0.]],\n",
              "\n",
              "       [[0., 0., 0.],\n",
              "        [0., 0., 0.],\n",
              "        [0., 0., 0.],\n",
              "        ...,\n",
              "        [0., 0., 0.],\n",
              "        [0., 0., 0.],\n",
              "        [0., 0., 0.]],\n",
              "\n",
              "       ...,\n",
              "\n",
              "       [[0., 0., 0.],\n",
              "        [0., 0., 0.],\n",
              "        [0., 0., 0.],\n",
              "        ...,\n",
              "        [0., 0., 0.],\n",
              "        [0., 0., 0.],\n",
              "        [0., 0., 0.]],\n",
              "\n",
              "       [[0., 0., 0.],\n",
              "        [0., 0., 0.],\n",
              "        [0., 0., 0.],\n",
              "        ...,\n",
              "        [0., 0., 0.],\n",
              "        [0., 0., 0.],\n",
              "        [0., 0., 0.]],\n",
              "\n",
              "       [[0., 0., 0.],\n",
              "        [0., 0., 0.],\n",
              "        [0., 0., 0.],\n",
              "        ...,\n",
              "        [0., 0., 0.],\n",
              "        [0., 0., 0.],\n",
              "        [0., 0., 0.]]], dtype=float32)"
            ]
          },
          "metadata": {
            "tags": []
          },
          "execution_count": 70
        }
      ]
    },
    {
      "cell_type": "code",
      "metadata": {
        "colab": {
          "base_uri": "https://localhost:8080/"
        },
        "id": "-DY62JOIOuls",
        "outputId": "12dec2df-4cd8-4221-dfd9-f0e826892897"
      },
      "source": [
        "my_img_arr.shape#verificamos el shape de nuestras imagenes"
      ],
      "execution_count": null,
      "outputs": [
        {
          "output_type": "execute_result",
          "data": {
            "text/plain": [
              "(130, 130, 3)"
            ]
          },
          "metadata": {
            "tags": []
          },
          "execution_count": 72
        }
      ]
    },
    {
      "cell_type": "markdown",
      "metadata": {
        "id": "HOH3iM2mPEmR"
      },
      "source": [
        "el formato debe ser batch (1, 130, 130, 3). para ello vamos a utilizar una herramienta de numpy llamada \"np.expand_dims\""
      ]
    },
    {
      "cell_type": "code",
      "metadata": {
        "id": "luN7dKRNO2GD"
      },
      "source": [
        "my_img_arr = np.expand_dims(my_img_arr, axis=0)"
      ],
      "execution_count": null,
      "outputs": []
    },
    {
      "cell_type": "markdown",
      "metadata": {
        "id": "FAxuGsgQPUQY"
      },
      "source": [
        "Volvemos a verificar"
      ]
    },
    {
      "cell_type": "code",
      "metadata": {
        "colab": {
          "base_uri": "https://localhost:8080/"
        },
        "id": "-PFcnNxKPR2c",
        "outputId": "9109b1cd-a991-4072-dd48-46295fbaab25"
      },
      "source": [
        "my_img_arr.shape"
      ],
      "execution_count": null,
      "outputs": [
        {
          "output_type": "execute_result",
          "data": {
            "text/plain": [
              "(1, 130, 130, 3)"
            ]
          },
          "metadata": {
            "tags": []
          },
          "execution_count": 74
        }
      ]
    },
    {
      "cell_type": "markdown",
      "metadata": {
        "id": "03bxyzxwPfEa"
      },
      "source": [
        "si solo predecimos una imagen, usaremos el predict(), sino el predict_generator"
      ]
    },
    {
      "cell_type": "code",
      "metadata": {
        "colab": {
          "base_uri": "https://localhost:8080/"
        },
        "id": "Ox3q8hTVPa7K",
        "outputId": "799ff772-e635-4ca3-af1e-ec9b32eaafd7"
      },
      "source": [
        "model.predict(my_img_arr)"
      ],
      "execution_count": null,
      "outputs": [
        {
          "output_type": "execute_result",
          "data": {
            "text/plain": [
              "array([[0.]], dtype=float32)"
            ]
          },
          "metadata": {
            "tags": []
          },
          "execution_count": 75
        }
      ]
    },
    {
      "cell_type": "code",
      "metadata": {
        "colab": {
          "base_uri": "https://localhost:8080/"
        },
        "id": "onhptqKYPuT4",
        "outputId": "665675dd-4dbd-4677-83c5-59f371abe95e"
      },
      "source": [
        "train_image_gen.class_indices"
      ],
      "execution_count": null,
      "outputs": [
        {
          "output_type": "execute_result",
          "data": {
            "text/plain": [
              "{'parasitized': 0, 'uninfected': 1}"
            ]
          },
          "metadata": {
            "tags": []
          },
          "execution_count": 76
        }
      ]
    },
    {
      "cell_type": "markdown",
      "metadata": {
        "id": "HGOeXo8Wb-Bf"
      },
      "source": [
        "## Fin\n",
        "Pudimos observar en este proyecto que nuestro modelo creado funciona bien, puede clasificar imagenes de celulas dañadas o no, lo cual podria ser decisivo a la hora de ayudar en la labor medica. Si bien este tipo de proyectos no buscan sustituir la persona, si ofrece la posibilidad de ayudar, de complementar con la tarea de identificacion. "
      ]
    }
  ]
}